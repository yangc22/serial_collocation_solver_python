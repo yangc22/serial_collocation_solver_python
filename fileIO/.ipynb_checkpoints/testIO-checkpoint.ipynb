{
 "cells": [
  {
   "cell_type": "code",
   "execution_count": 4,
   "metadata": {
    "collapsed": true
   },
   "outputs": [],
   "source": [
    "import numpy as np\n",
    "\n",
    "fname = 'test.txt'\n",
    "N = 101\n",
    "ti = 0\n",
    "tf = 1\n",
    "tspan = np.linspace(ti, tf, num = N)\n",
    "ny = 4\n",
    "nz = 2\n",
    "n_p = 4\n",
    "y0 = np.ones((N, ny), dtype = np.float64)\n",
    "z0 = np.zeros((N, nz), dtype = np.float64)\n",
    "p0 = np.ones((n_p), dtype = np.float64)\n",
    "with open(fname, 'w') as f:\n",
    "    # write number of nodes\n",
    "    f.write('{}\\n'.format('nt:'))\n",
    "    f.write('{}\\n'.format(N))\n",
    "    # write time span\n",
    "    f.write('{}\\n'.format('t:'))\n",
    "    # np.savetxt(f, tspan, delimiter=' ')\n",
    "    tspan.tofile(f, sep = ' ')\n",
    "    f.write('\\n')\n",
    "    # write number of y variables\n",
    "    f.write('{}\\n'.format('ny:'))\n",
    "    f.write('{}\\n'.format(ny))\n",
    "    # write y variables\n",
    "    f.write('{}\\n'.format('y:'))\n",
    "    np.savetxt(f, y0, delimiter=' ')\n",
    "    # write number of z variables\n",
    "    f.write('{}\\n'.format('nz:'))\n",
    "    f.write('{}\\n'.format(nz))\n",
    "    # write z variables\n",
    "    f.write('{}\\n'.format('z:'))\n",
    "    np.savetxt(f, z0, delimiter=' ')\n",
    "    # write number of p variables\n",
    "    f.write('{}\\n'.format('np：'))\n",
    "    f.write('{}\\n'.format(n_p))\n",
    "    # write p variables\n",
    "    f.write('{}\\n'.format('p：'))\n",
    "    p0.tofile(f, sep = ' ')\n",
    "# np.savetxt(fname, tspan, delimiter=' ')"
   ]
  },
  {
   "cell_type": "code",
   "execution_count": 2,
   "metadata": {
    "collapsed": true
   },
   "outputs": [],
   "source": [
    "with open('xyz','w') as f:\n",
    "    for n in range(1,4):\n",
    "        arr = np.arange(n*n).reshape(n,n)\n",
    "        np.savetxt(f, arr, fmt='%5d', delimiter=',')"
   ]
  },
  {
   "cell_type": "code",
   "execution_count": null,
   "metadata": {
    "collapsed": true
   },
   "outputs": [],
   "source": []
  }
 ],
 "metadata": {
  "kernelspec": {
   "display_name": "Python 3",
   "language": "python",
   "name": "python3"
  },
  "language_info": {
   "codemirror_mode": {
    "name": "ipython",
    "version": 3
   },
   "file_extension": ".py",
   "mimetype": "text/x-python",
   "name": "python",
   "nbconvert_exporter": "python",
   "pygments_lexer": "ipython3",
   "version": "3.6.8"
  }
 },
 "nbformat": 4,
 "nbformat_minor": 2
}
